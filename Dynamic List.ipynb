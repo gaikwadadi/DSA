{
 "cells": [
  {
   "cell_type": "markdown",
   "id": "b3d46f03",
   "metadata": {},
   "source": [
    "### PYTHON LIST FROM SCRATCH"
   ]
  },
  {
   "cell_type": "code",
   "execution_count": null,
   "id": "a3763610",
   "metadata": {},
   "outputs": [],
   "source": [
    "# Essential libraries\n",
    "import ctypes\n",
    "from ast import Return"
   ]
  },
  {
   "cell_type": "code",
   "execution_count": null,
   "id": "711b152b",
   "metadata": {},
   "outputs": [],
   "source": [
    "# creating a dynamic list from scratch\n",
    "\n",
    "class Mylist:\n",
    "\n",
    "    def __init__(self):\n",
    "        self.size = 1      # initialize the size of array\n",
    "        self.n = 0         # stores the count of element\n",
    "        \n",
    "        # create array if size 1\n",
    "        self.A = self.__create_array(self.size)\n",
    "    \n",
    "    # fuction to create array\n",
    "    def __create_array(self,capacity):\n",
    "        return (capacity*ctypes.py_object)()\n",
    "  \n",
    "    # function to resize the array\n",
    "    def __resize(self,new_capacity):\n",
    "        B = self.__create_array(new_capacity)\n",
    "        self.size = new_capacity   \n",
    "        # copy content A to B\n",
    "        for i in range(self.n):\n",
    "            B[i] = self.A[i]  \n",
    "        # reassign the new array to A\n",
    "        self.A = B\n",
    "        \n",
    "    # function to see len of element   \n",
    "    def __len__(self):\n",
    "        return self.n\n",
    "    \n",
    "    # function to add new element at last \n",
    "    def append(self,item):\n",
    "        # check if there is space to add new element\n",
    "        if self.size == self.n:\n",
    "            self.__resize(self.size*2)  # if no space we resize the array\n",
    "        self.A[self.n] = item           # add new item to last\n",
    "        self.n += 1                     # increase count of element\n",
    "\n",
    "    # function to print elements in array\n",
    "    def __str__(self):\n",
    "        result = ''                           # variable to store and print result\n",
    "        for i in range(self.n):               # iterating of len or array\n",
    "            result += str(self.A[i]) + ','    # adding element to result\n",
    "        return '[' + result[:-1] + ']'             \n",
    "\n",
    "    # function for indexing \n",
    "    def __getitem__(self,index):\n",
    "        if 0<= index < self.n:\n",
    "            return self.A[index]\n",
    "        else:\n",
    "            raise ValueError('Index out of range')\n",
    "    \n",
    "    # function to remove last element\n",
    "    def pop(self):\n",
    "        if self.n == 0:                         # checks if list is empty or not\n",
    "            raise ValueError('List is empty')       \n",
    "        val = self.A[self.n-1]                         \n",
    "        self.n = self.n-1\n",
    "        return val\n",
    "    \n",
    "    # function to delete all elements from list\n",
    "    def clear(self):\n",
    "        self.n = 0              # change the count of element to zero\n",
    "        self.size = 1           # resize the array to 1 size \n",
    "\n",
    "    # function to find index by element\n",
    "    def find(self,item):\n",
    "        for i in range(self.n):         # loop to iterate over list\n",
    "            if self.A[i] == item:       # check item in list\n",
    "                return i                \n",
    "        raise ValueError(f'{item} not found in list')\n",
    "    \n",
    "    # function to insert element on certain index\n",
    "    def insert(self,pos,item):\n",
    "        if self.n == self.size:                 # check we there is space or not\n",
    "            self.__resize(self.size*2)          # if not resize the array\n",
    "        \n",
    "        if pos > self.n:                        # check if give position out of index or not\n",
    "            self.append(item)                   # if yes then item will append last\n",
    "        else:\n",
    "            for i in range(self.n,pos,-1):      # reverse or negative loop fron len(array) to position + 1\n",
    "                self.A[i] = self.A[i-1]         # swaping the element\n",
    "            self.A[pos] = item                  # inserting the element at given position\n",
    "            self.n += 1                         # increament count of element\n",
    "    \n",
    "    # function to delete or remove element idexwise\n",
    "    def __delitem__(self,pos):\n",
    "        if pos > self.n:                                    # check the condition of index out of range                                \n",
    "            raise ValueError('Index out of range')          # if index out of range raise ValueError\n",
    "        for i in range(pos,self.n-1):                       # looping over pos to last element\n",
    "            self.A[i] = self.A[i+1]                         # replacing the numbers\n",
    "        self.n -= 1                                         # decrement the count\n",
    "\n",
    "    # function to remove the element \n",
    "    def remove(self,item):\n",
    "        pos = self.find(item)                                        # getting index of the element has to delete\n",
    "        if isinstance(pos, int):                                     # check if index is integer \n",
    "            self.__delitem__(pos)                                    # if index element index found delete element\n",
    "        else:\n",
    "            raise ValueError(f'{item} not found in the list')        # if index not found raise error\n",
    "        \n",
    "    # function to reverse the element in the list\n",
    "    def reverse(self):\n",
    "        left = 0                                                            # initialise left pointer\n",
    "        right = self.n-1                                                    # initialise right pointer\n",
    "        while left < right:                                                 \n",
    "            self.A[left], self.A[right] = self.A[right], self.A[left]       # swaping the element\n",
    "            left += 1                                                       # increment pointer \n",
    "            right -= 1 \n",
    "        return self                                                     # decrement pointer\n",
    "\n",
    "    # function to count repeated element \n",
    "    def count(self,item):\n",
    "        cnt = 0                                     # initialise the count\n",
    "        for i in range(self.n):                     # iterating over list\n",
    "            if self.A[i] == item:                   # check for element         \n",
    "                cnt +=1                             # increase count\n",
    "            else:\n",
    "                raise ValueError('item not found in the list')\n",
    "        return cnt\n",
    "\n",
    "    # function to get max element\n",
    "    def max(self):\n",
    "        if self.n == 0:                               # check list is empty or not\n",
    "            raise ValueError('list is empty')         # if list empty raise error\n",
    "        m = self.A[0]                                 # initialise value\n",
    "        for i in range(1,self.n):                     # iterating over loop\n",
    "            if not isinstance(self.A[i], (int,float)):\n",
    "                raise ValueError(f'Non-Numeric element found {self.A[i]}')\n",
    "            else: \n",
    "                if self.A[i] > m:                     # check for max value\n",
    "                    m = self.A[i]                     # set max value\n",
    "        return m\n",
    "    \n",
    "    # function to get min element\n",
    "    def min(self):\n",
    "        if self.n == 0:                                # check list is empty or not\n",
    "            raise ValueError('list is empty')          # if list empty raise error\n",
    "        m = self.A[0]                                  # initialise value\n",
    "        for i in range(1,self.n):                      # iterating over loop\n",
    "            if not isinstance(self.A[i], (int,float)):\n",
    "                raise ValueError(f'Non-Numeric element found {self.A[i]}')\n",
    "            else :\n",
    "                if self.A[i] < m:                      # check for min value\n",
    "                    m = self.A[i]                      # set min value\n",
    "        return m\n",
    "    \n",
    "    # function to get sum of element\n",
    "    def sum(self):\n",
    "        if self.n == 0:                                      # check list is empty or not\n",
    "            raise ValueError('list is empty')                # if list empty raise error\n",
    "        total = 0                                            # initialise total\n",
    "        for i in range(self.n):                             \n",
    "            if not isinstance(self.A[i], (int,float)):       # check elements in the list is integer\n",
    "                raise ValueError(f'Non-Numeric element found {self.A[i]}')\n",
    "            total += self.A[i]                                \n",
    "        return total\n",
    "    \n",
    "    __repr__ = __str__"
   ]
  },
  {
   "cell_type": "code",
   "execution_count": 36,
   "id": "d5a01576",
   "metadata": {},
   "outputs": [],
   "source": [
    "L = Mylist()"
   ]
  },
  {
   "cell_type": "code",
   "execution_count": 37,
   "id": "349ef66e",
   "metadata": {},
   "outputs": [
    {
     "data": {
      "text/plain": [
       "0"
      ]
     },
     "execution_count": 37,
     "metadata": {},
     "output_type": "execute_result"
    }
   ],
   "source": [
    "len(L)"
   ]
  },
  {
   "cell_type": "code",
   "execution_count": 38,
   "id": "8596ada2",
   "metadata": {},
   "outputs": [],
   "source": [
    "L.append('aditya')\n",
    "L.append('shreesha')\n",
    "L.append('ditya')\n",
    "L.append(100)\n",
    "L.append(200)\n",
    "L.append(300)"
   ]
  },
  {
   "cell_type": "code",
   "execution_count": 39,
   "id": "ea68c6b3",
   "metadata": {},
   "outputs": [
    {
     "name": "stdout",
     "output_type": "stream",
     "text": [
      "[aditya,shreesha,ditya,100,200,300]\n"
     ]
    }
   ],
   "source": [
    "print(L)"
   ]
  },
  {
   "cell_type": "code",
   "execution_count": 40,
   "id": "49a1743a",
   "metadata": {},
   "outputs": [
    {
     "data": {
      "text/plain": [
       "'ditya'"
      ]
     },
     "execution_count": 40,
     "metadata": {},
     "output_type": "execute_result"
    }
   ],
   "source": [
    "L[2]"
   ]
  },
  {
   "cell_type": "code",
   "execution_count": 41,
   "id": "82c45d6d",
   "metadata": {},
   "outputs": [
    {
     "data": {
      "text/plain": [
       "'shreesha'"
      ]
     },
     "execution_count": 41,
     "metadata": {},
     "output_type": "execute_result"
    }
   ],
   "source": [
    "L[1]"
   ]
  },
  {
   "cell_type": "code",
   "execution_count": 42,
   "id": "a7e3c588",
   "metadata": {},
   "outputs": [
    {
     "data": {
      "text/plain": [
       "300"
      ]
     },
     "execution_count": 42,
     "metadata": {},
     "output_type": "execute_result"
    }
   ],
   "source": [
    "L.pop()"
   ]
  },
  {
   "cell_type": "code",
   "execution_count": 43,
   "id": "be9ffd85",
   "metadata": {},
   "outputs": [
    {
     "name": "stdout",
     "output_type": "stream",
     "text": [
      "[aditya,shreesha,ditya,100,200]\n"
     ]
    }
   ],
   "source": [
    "print(L)"
   ]
  },
  {
   "cell_type": "code",
   "execution_count": 44,
   "id": "c4f68629",
   "metadata": {},
   "outputs": [],
   "source": [
    "L.clear()"
   ]
  },
  {
   "cell_type": "code",
   "execution_count": 46,
   "id": "285f975e",
   "metadata": {},
   "outputs": [],
   "source": [
    "L.append(100)\n",
    "L.append(200)\n",
    "L.append(300)"
   ]
  },
  {
   "cell_type": "code",
   "execution_count": 47,
   "id": "160b66f9",
   "metadata": {},
   "outputs": [
    {
     "name": "stdout",
     "output_type": "stream",
     "text": [
      "[100,200,300]\n"
     ]
    }
   ],
   "source": [
    "print(L)"
   ]
  },
  {
   "cell_type": "code",
   "execution_count": 48,
   "id": "67e446e7",
   "metadata": {},
   "outputs": [
    {
     "data": {
      "text/plain": [
       "0"
      ]
     },
     "execution_count": 48,
     "metadata": {},
     "output_type": "execute_result"
    }
   ],
   "source": [
    "L.find(100)"
   ]
  },
  {
   "cell_type": "code",
   "execution_count": 49,
   "id": "91404b2f",
   "metadata": {},
   "outputs": [],
   "source": [
    "L.insert(1,'gaikwad')"
   ]
  },
  {
   "cell_type": "code",
   "execution_count": 50,
   "id": "62c65fc9",
   "metadata": {},
   "outputs": [
    {
     "name": "stdout",
     "output_type": "stream",
     "text": [
      "[100,gaikwad,200,300]\n"
     ]
    }
   ],
   "source": [
    "print(L)"
   ]
  },
  {
   "cell_type": "code",
   "execution_count": 51,
   "id": "e462da18",
   "metadata": {},
   "outputs": [],
   "source": [
    "del L[1]"
   ]
  },
  {
   "cell_type": "code",
   "execution_count": 52,
   "id": "dc536231",
   "metadata": {},
   "outputs": [
    {
     "name": "stdout",
     "output_type": "stream",
     "text": [
      "[100,200,300]\n"
     ]
    }
   ],
   "source": [
    "print(L)"
   ]
  },
  {
   "cell_type": "code",
   "execution_count": 53,
   "id": "2d34e9ff",
   "metadata": {},
   "outputs": [],
   "source": [
    "L.remove(200)"
   ]
  },
  {
   "cell_type": "code",
   "execution_count": 54,
   "id": "8a9ee274",
   "metadata": {},
   "outputs": [
    {
     "name": "stdout",
     "output_type": "stream",
     "text": [
      "[100,300]\n"
     ]
    }
   ],
   "source": [
    "print(L)"
   ]
  },
  {
   "cell_type": "code",
   "execution_count": 55,
   "id": "00004821",
   "metadata": {},
   "outputs": [
    {
     "data": {
      "text/plain": [
       "[300,100]"
      ]
     },
     "execution_count": 55,
     "metadata": {},
     "output_type": "execute_result"
    }
   ],
   "source": [
    "L.reverse()"
   ]
  },
  {
   "cell_type": "code",
   "execution_count": 59,
   "id": "b3e065c6",
   "metadata": {},
   "outputs": [],
   "source": [
    "L.clear()"
   ]
  },
  {
   "cell_type": "code",
   "execution_count": 60,
   "id": "65b1cfd1",
   "metadata": {},
   "outputs": [],
   "source": [
    "L.append(12)\n",
    "L.append(10)\n",
    "L.append(22)\n",
    "L.append(35)\n",
    "L.append(50)"
   ]
  },
  {
   "cell_type": "code",
   "execution_count": 61,
   "id": "5aee4f8d",
   "metadata": {},
   "outputs": [
    {
     "name": "stdout",
     "output_type": "stream",
     "text": [
      "[12,10,22,35,50]\n"
     ]
    }
   ],
   "source": [
    "print(L)"
   ]
  },
  {
   "cell_type": "code",
   "execution_count": 62,
   "id": "b4b24d5a",
   "metadata": {},
   "outputs": [
    {
     "data": {
      "text/plain": [
       "10"
      ]
     },
     "execution_count": 62,
     "metadata": {},
     "output_type": "execute_result"
    }
   ],
   "source": [
    "L.min()"
   ]
  },
  {
   "cell_type": "code",
   "execution_count": 63,
   "id": "383e5c0c",
   "metadata": {},
   "outputs": [
    {
     "data": {
      "text/plain": [
       "50"
      ]
     },
     "execution_count": 63,
     "metadata": {},
     "output_type": "execute_result"
    }
   ],
   "source": [
    "L.max()"
   ]
  },
  {
   "cell_type": "code",
   "execution_count": 64,
   "id": "2dab9beb",
   "metadata": {},
   "outputs": [
    {
     "data": {
      "text/plain": [
       "129"
      ]
     },
     "execution_count": 64,
     "metadata": {},
     "output_type": "execute_result"
    }
   ],
   "source": [
    "L.sum()"
   ]
  },
  {
   "cell_type": "code",
   "execution_count": null,
   "id": "7897f2df",
   "metadata": {},
   "outputs": [],
   "source": [
    "# Creating dynamic arrays: -> Python List is an dynamic array beacause it creates dynamic arrays from static array.\n",
    "\n",
    "# Method of list: ->\n",
    "\n",
    "# create list\n",
    "# len\n",
    "# append\n",
    "# print\n",
    "# indexing\n",
    "# pop\n",
    "# clear\n",
    "# find\n",
    "# insert\n",
    "# delete\n",
    "# remove\n",
    "# reverse\n",
    "# min\n",
    "# max\n",
    "# sum"
   ]
  },
  {
   "cell_type": "code",
   "execution_count": null,
   "id": "2e4c6b86",
   "metadata": {},
   "outputs": [],
   "source": []
  }
 ],
 "metadata": {
  "kernelspec": {
   "display_name": "Python 3",
   "language": "python",
   "name": "python3"
  },
  "language_info": {
   "codemirror_mode": {
    "name": "ipython",
    "version": 3
   },
   "file_extension": ".py",
   "mimetype": "text/x-python",
   "name": "python",
   "nbconvert_exporter": "python",
   "pygments_lexer": "ipython3",
   "version": "3.12.2"
  }
 },
 "nbformat": 4,
 "nbformat_minor": 5
}
